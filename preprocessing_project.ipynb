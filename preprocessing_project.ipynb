{
 "cells": [
  {
   "cell_type": "markdown",
   "id": "90adba23-0757-4202-a2dc-abfdd03fb25f",
   "metadata": {},
   "source": [
    "1. Delete row with NaN\n",
    "2. RevolvingUtilizationOfUnsecuredLines maximum 100%\n",
    "3. delete age 0\n",
    "4. DebtRatio max 100\n",
    "5. MonthlyIncome max 100000\n",
    "6. NumberOfTimes90DaysLate max 25\n",
    "7. NumberRealEstateLoansOrLines max 10\n",
    "8. SMOTE\n",
    "9. Log Transform\n",
    "10. NumberOfDependents max 5"
   ]
  },
  {
   "cell_type": "markdown",
   "id": "27935af6-3fb8-4029-9d38-221fff913a97",
   "metadata": {},
   "source": [
    "### Import library"
   ]
  },
  {
   "cell_type": "code",
   "execution_count": 229,
   "id": "5b07a761-504a-467b-87bb-86c2b833c16c",
   "metadata": {},
   "outputs": [],
   "source": [
    "import numpy as np\n",
    "import pandas as pd\n",
    "import matplotlib.pyplot as plt\n",
    "import seaborn as sns\n",
    "from sklearn.preprocessing import LabelEncoder, StandardScaler\n",
    "from sklearn.model_selection import train_test_split\n",
    "from sklearn.linear_model import LogisticRegression\n",
    "from sklearn.naive_bayes import GaussianNB\n",
    "from sklearn.naive_bayes import BernoulliNB\n",
    "from sklearn.svm import SVC\n",
    "from sklearn.ensemble import RandomForestClassifier\n",
    "from sklearn.neighbors import KNeighborsClassifier\n",
    "from xgboost import XGBClassifier\n",
    "from sklearn.metrics import accuracy_score, confusion_matrix, classification_report, ConfusionMatrixDisplay\n",
    "import joblib\n",
    "from sklearn.metrics import precision_score, recall_score, confusion_matrix\n",
    "from sklearn.metrics import f1_score, roc_auc_score, roc_curve\n",
    "from imblearn.pipeline import make_pipeline\n",
    "\n",
    "import warnings\n",
    "warnings.filterwarnings('ignore')"
   ]
  },
  {
   "cell_type": "markdown",
   "id": "7ae6d6c3-5ae6-4def-ba3b-439697d6cbb2",
   "metadata": {},
   "source": [
    "### Load Data"
   ]
  },
  {
   "cell_type": "code",
   "execution_count": 164,
   "id": "8f08637a-f36f-4e0b-890e-bbf4c33178b6",
   "metadata": {},
   "outputs": [],
   "source": [
    "x_train = joblib.load(\"data/processed/x_train.pkl\")\n",
    "y_train = joblib.load(\"data/processed/y_train.pkl\")\n",
    "x_valid = joblib.load(\"data/processed/x_valid.pkl\")\n",
    "y_valid = joblib.load(\"data/processed/y_valid.pkl\")\n",
    "x_test = joblib.load(\"data/processed/x_test.pkl\")\n",
    "y_test = joblib.load(\"data/processed/y_test.pkl\")"
   ]
  },
  {
   "cell_type": "code",
   "execution_count": 165,
   "id": "0cac7668-9c88-4fa9-98f0-e7d7dd239dee",
   "metadata": {},
   "outputs": [],
   "source": [
    "dataset = pd.concat([x_train, y_train], axis = 1)"
   ]
  },
  {
   "cell_type": "code",
   "execution_count": 166,
   "id": "17e488eb-1625-45c9-be61-cd621774ce4e",
   "metadata": {},
   "outputs": [
    {
     "data": {
      "text/html": [
       "<div>\n",
       "<style scoped>\n",
       "    .dataframe tbody tr th:only-of-type {\n",
       "        vertical-align: middle;\n",
       "    }\n",
       "\n",
       "    .dataframe tbody tr th {\n",
       "        vertical-align: top;\n",
       "    }\n",
       "\n",
       "    .dataframe thead th {\n",
       "        text-align: right;\n",
       "    }\n",
       "</style>\n",
       "<table border=\"1\" class=\"dataframe\">\n",
       "  <thead>\n",
       "    <tr style=\"text-align: right;\">\n",
       "      <th></th>\n",
       "      <th>RevolvingUtilizationOfUnsecuredLines</th>\n",
       "      <th>Age</th>\n",
       "      <th>NumberOfTime30-59DaysPastDueNotWorse</th>\n",
       "      <th>DebtRatio</th>\n",
       "      <th>MonthlyIncome</th>\n",
       "      <th>NumberOfOpenCreditLinesAndLoans</th>\n",
       "      <th>NumberRealEstateLoansOrLines</th>\n",
       "      <th>NumberOfDependents</th>\n",
       "      <th>NumberOfTimes90DaysLate</th>\n",
       "      <th>NumberOfTime60-89DaysPastDueNotWorse</th>\n",
       "      <th>SeriousDlqin2yrs</th>\n",
       "    </tr>\n",
       "  </thead>\n",
       "  <tbody>\n",
       "    <tr>\n",
       "      <th>60493</th>\n",
       "      <td>1.000000</td>\n",
       "      <td>41</td>\n",
       "      <td>0</td>\n",
       "      <td>0.075603</td>\n",
       "      <td>6057.0</td>\n",
       "      <td>2</td>\n",
       "      <td>0</td>\n",
       "      <td>1.0</td>\n",
       "      <td>0</td>\n",
       "      <td>0</td>\n",
       "      <td>0</td>\n",
       "    </tr>\n",
       "    <tr>\n",
       "      <th>21757</th>\n",
       "      <td>0.860167</td>\n",
       "      <td>46</td>\n",
       "      <td>1</td>\n",
       "      <td>0.537121</td>\n",
       "      <td>5050.0</td>\n",
       "      <td>9</td>\n",
       "      <td>1</td>\n",
       "      <td>0.0</td>\n",
       "      <td>0</td>\n",
       "      <td>2</td>\n",
       "      <td>1</td>\n",
       "    </tr>\n",
       "    <tr>\n",
       "      <th>89129</th>\n",
       "      <td>0.272232</td>\n",
       "      <td>31</td>\n",
       "      <td>0</td>\n",
       "      <td>0.398012</td>\n",
       "      <td>2916.0</td>\n",
       "      <td>10</td>\n",
       "      <td>2</td>\n",
       "      <td>0.0</td>\n",
       "      <td>0</td>\n",
       "      <td>0</td>\n",
       "      <td>0</td>\n",
       "    </tr>\n",
       "    <tr>\n",
       "      <th>49283</th>\n",
       "      <td>0.940739</td>\n",
       "      <td>44</td>\n",
       "      <td>0</td>\n",
       "      <td>0.509322</td>\n",
       "      <td>12604.0</td>\n",
       "      <td>17</td>\n",
       "      <td>2</td>\n",
       "      <td>2.0</td>\n",
       "      <td>0</td>\n",
       "      <td>0</td>\n",
       "      <td>0</td>\n",
       "    </tr>\n",
       "    <tr>\n",
       "      <th>67587</th>\n",
       "      <td>0.000000</td>\n",
       "      <td>48</td>\n",
       "      <td>0</td>\n",
       "      <td>0.499417</td>\n",
       "      <td>6000.0</td>\n",
       "      <td>13</td>\n",
       "      <td>1</td>\n",
       "      <td>2.0</td>\n",
       "      <td>0</td>\n",
       "      <td>0</td>\n",
       "      <td>0</td>\n",
       "    </tr>\n",
       "  </tbody>\n",
       "</table>\n",
       "</div>"
      ],
      "text/plain": [
       "       RevolvingUtilizationOfUnsecuredLines  Age  \\\n",
       "60493                              1.000000   41   \n",
       "21757                              0.860167   46   \n",
       "89129                              0.272232   31   \n",
       "49283                              0.940739   44   \n",
       "67587                              0.000000   48   \n",
       "\n",
       "       NumberOfTime30-59DaysPastDueNotWorse  DebtRatio  MonthlyIncome  \\\n",
       "60493                                     0   0.075603         6057.0   \n",
       "21757                                     1   0.537121         5050.0   \n",
       "89129                                     0   0.398012         2916.0   \n",
       "49283                                     0   0.509322        12604.0   \n",
       "67587                                     0   0.499417         6000.0   \n",
       "\n",
       "       NumberOfOpenCreditLinesAndLoans  NumberRealEstateLoansOrLines  \\\n",
       "60493                                2                             0   \n",
       "21757                                9                             1   \n",
       "89129                               10                             2   \n",
       "49283                               17                             2   \n",
       "67587                               13                             1   \n",
       "\n",
       "       NumberOfDependents  NumberOfTimes90DaysLate  \\\n",
       "60493                 1.0                        0   \n",
       "21757                 0.0                        0   \n",
       "89129                 0.0                        0   \n",
       "49283                 2.0                        0   \n",
       "67587                 2.0                        0   \n",
       "\n",
       "       NumberOfTime60-89DaysPastDueNotWorse  SeriousDlqin2yrs  \n",
       "60493                                     0                 0  \n",
       "21757                                     2                 1  \n",
       "89129                                     0                 0  \n",
       "49283                                     0                 0  \n",
       "67587                                     0                 0  "
      ]
     },
     "execution_count": 166,
     "metadata": {},
     "output_type": "execute_result"
    }
   ],
   "source": [
    "dataset.head()"
   ]
  },
  {
   "cell_type": "code",
   "execution_count": 167,
   "id": "9bf49609-e314-42a3-8b90-c41ed86a0818",
   "metadata": {},
   "outputs": [
    {
     "data": {
      "text/plain": [
       "(72161, 11)"
      ]
     },
     "execution_count": 167,
     "metadata": {},
     "output_type": "execute_result"
    }
   ],
   "source": [
    "# Original shape\n",
    "dataset.shape"
   ]
  },
  {
   "cell_type": "markdown",
   "id": "278b0dfc-8a99-49e5-aae2-750e6828d550",
   "metadata": {},
   "source": [
    "### Remove Outlier"
   ]
  },
  {
   "cell_type": "markdown",
   "id": "d423866d-4edf-4177-bc78-929307979997",
   "metadata": {},
   "source": [
    "#### Remove NaN"
   ]
  },
  {
   "cell_type": "code",
   "execution_count": 168,
   "id": "b6cd0a21-8cd5-4718-b5ad-855fbabfcef9",
   "metadata": {},
   "outputs": [],
   "source": [
    "dataset = dataset.dropna()"
   ]
  },
  {
   "cell_type": "code",
   "execution_count": 169,
   "id": "346ae5e3-6e8a-4c21-8328-d9d56909f3ba",
   "metadata": {},
   "outputs": [
    {
     "data": {
      "text/plain": [
       "(72161, 11)"
      ]
     },
     "execution_count": 169,
     "metadata": {},
     "output_type": "execute_result"
    }
   ],
   "source": [
    "dataset.shape"
   ]
  },
  {
   "cell_type": "markdown",
   "id": "14ac56a2-069f-42e0-afd4-b3707012753c",
   "metadata": {},
   "source": [
    "#### RevolvingUtilizationOfUnsecuredLines maximum 100%"
   ]
  },
  {
   "cell_type": "code",
   "execution_count": 170,
   "id": "fac3283b-6e8b-414d-9576-095f98690c2f",
   "metadata": {},
   "outputs": [
    {
     "data": {
      "text/plain": [
       "count    72161.000000\n",
       "mean         5.833723\n",
       "std        211.022556\n",
       "min          0.000000\n",
       "25%          0.035749\n",
       "50%          0.179137\n",
       "75%          0.581655\n",
       "max      22000.000000\n",
       "Name: RevolvingUtilizationOfUnsecuredLines, dtype: float64"
      ]
     },
     "execution_count": 170,
     "metadata": {},
     "output_type": "execute_result"
    }
   ],
   "source": [
    "dataset['RevolvingUtilizationOfUnsecuredLines'].describe()"
   ]
  },
  {
   "cell_type": "code",
   "execution_count": 171,
   "id": "1f3607bc-b82f-44c2-b546-03094e3cf343",
   "metadata": {},
   "outputs": [],
   "source": [
    "dataset = dataset[dataset['RevolvingUtilizationOfUnsecuredLines'] <= 100]"
   ]
  },
  {
   "cell_type": "code",
   "execution_count": 172,
   "id": "5debc69e-c267-4618-91a6-e0d921377b11",
   "metadata": {},
   "outputs": [
    {
     "data": {
      "text/plain": [
       "(72058, 11)"
      ]
     },
     "execution_count": 172,
     "metadata": {},
     "output_type": "execute_result"
    }
   ],
   "source": [
    "dataset.shape"
   ]
  },
  {
   "cell_type": "code",
   "execution_count": 173,
   "id": "4b525039-17a9-4ae0-988b-c6fb058f75a5",
   "metadata": {},
   "outputs": [
    {
     "data": {
      "text/plain": [
       "count    72058.000000\n",
       "mean         0.340216\n",
       "std          0.660822\n",
       "min          0.000000\n",
       "25%          0.035681\n",
       "50%          0.178478\n",
       "75%          0.578820\n",
       "max         85.000000\n",
       "Name: RevolvingUtilizationOfUnsecuredLines, dtype: float64"
      ]
     },
     "execution_count": 173,
     "metadata": {},
     "output_type": "execute_result"
    }
   ],
   "source": [
    "dataset['RevolvingUtilizationOfUnsecuredLines'].describe()"
   ]
  },
  {
   "cell_type": "code",
   "execution_count": null,
   "id": "678d2dcb-e599-4efa-a6ab-d5ab5a117b81",
   "metadata": {},
   "outputs": [],
   "source": []
  },
  {
   "cell_type": "markdown",
   "id": "7f5f0775-7783-44be-a226-c8bc0f19bc57",
   "metadata": {},
   "source": [
    "#### delete age 0"
   ]
  },
  {
   "cell_type": "code",
   "execution_count": 174,
   "id": "2008518b-1212-4b92-8a92-44a637b6a16b",
   "metadata": {},
   "outputs": [
    {
     "data": {
      "text/plain": [
       "(72057, 11)"
      ]
     },
     "execution_count": 174,
     "metadata": {},
     "output_type": "execute_result"
    }
   ],
   "source": [
    "dataset = dataset[dataset['Age'] > 0]\n",
    "dataset.shape"
   ]
  },
  {
   "cell_type": "code",
   "execution_count": 175,
   "id": "10fcf337-e5be-48ae-a31a-310f957d8527",
   "metadata": {},
   "outputs": [
    {
     "data": {
      "text/plain": [
       "count    72057.000000\n",
       "mean        51.271965\n",
       "std         14.395934\n",
       "min         21.000000\n",
       "25%         41.000000\n",
       "50%         51.000000\n",
       "75%         61.000000\n",
       "max        102.000000\n",
       "Name: Age, dtype: float64"
      ]
     },
     "execution_count": 175,
     "metadata": {},
     "output_type": "execute_result"
    }
   ],
   "source": [
    "dataset['Age'].describe()"
   ]
  },
  {
   "cell_type": "code",
   "execution_count": null,
   "id": "74bd4c0e-3f6e-4261-a969-093ecb4dd15b",
   "metadata": {},
   "outputs": [],
   "source": []
  },
  {
   "cell_type": "markdown",
   "id": "2bbd1f2a-89fc-4ffc-b176-59dd3987015f",
   "metadata": {},
   "source": [
    "#### DebtRatio max 100"
   ]
  },
  {
   "cell_type": "code",
   "execution_count": 176,
   "id": "76cf55b8-a411-401e-ac31-d587dd570fbd",
   "metadata": {},
   "outputs": [
    {
     "data": {
      "text/plain": [
       "count    72057.000000\n",
       "mean        27.524528\n",
       "std        488.456705\n",
       "min          0.000000\n",
       "25%          0.144437\n",
       "50%          0.297028\n",
       "75%          0.483840\n",
       "max      61106.500000\n",
       "Name: DebtRatio, dtype: float64"
      ]
     },
     "execution_count": 176,
     "metadata": {},
     "output_type": "execute_result"
    }
   ],
   "source": [
    "dataset['DebtRatio'].describe()"
   ]
  },
  {
   "cell_type": "code",
   "execution_count": 177,
   "id": "173befd7-7af8-452a-8a1c-9eb33d8e6601",
   "metadata": {},
   "outputs": [],
   "source": [
    "dataset = dataset[dataset['DebtRatio'] <= 100]"
   ]
  },
  {
   "cell_type": "code",
   "execution_count": 178,
   "id": "a2069d14-02db-4238-8274-10ea68b700c2",
   "metadata": {},
   "outputs": [
    {
     "data": {
      "text/plain": [
       "count    71073.000000\n",
       "mean         0.499369\n",
       "std          2.547085\n",
       "min          0.000000\n",
       "25%          0.141847\n",
       "50%          0.292852\n",
       "75%          0.473158\n",
       "max         99.000000\n",
       "Name: DebtRatio, dtype: float64"
      ]
     },
     "execution_count": 178,
     "metadata": {},
     "output_type": "execute_result"
    }
   ],
   "source": [
    "dataset['DebtRatio'].describe()"
   ]
  },
  {
   "cell_type": "code",
   "execution_count": null,
   "id": "eabcb963-009b-479f-b32f-6ba391de8f2c",
   "metadata": {},
   "outputs": [],
   "source": []
  },
  {
   "cell_type": "markdown",
   "id": "60b0f42f-817a-4eb4-a63b-6e71482b50af",
   "metadata": {},
   "source": [
    "#### MonthlyIncome max 100000"
   ]
  },
  {
   "cell_type": "code",
   "execution_count": 179,
   "id": "5b9579f4-993d-4773-b0e0-63b256bc6d8d",
   "metadata": {},
   "outputs": [
    {
     "data": {
      "text/plain": [
       "count    7.107300e+04\n",
       "mean     6.735001e+03\n",
       "std      1.022825e+04\n",
       "min      0.000000e+00\n",
       "25%      3.500000e+03\n",
       "50%      5.420000e+03\n",
       "75%      8.300000e+03\n",
       "max      1.072500e+06\n",
       "Name: MonthlyIncome, dtype: float64"
      ]
     },
     "execution_count": 179,
     "metadata": {},
     "output_type": "execute_result"
    }
   ],
   "source": [
    "dataset['MonthlyIncome'].describe()"
   ]
  },
  {
   "cell_type": "code",
   "execution_count": 180,
   "id": "8bf275d1-861b-4b76-8855-f278fc57acc0",
   "metadata": {},
   "outputs": [],
   "source": [
    "dataset = dataset[dataset['MonthlyIncome'] <= 100000]"
   ]
  },
  {
   "cell_type": "code",
   "execution_count": 181,
   "id": "7f3158d0-7d18-4989-b9a3-5a432744dd6a",
   "metadata": {},
   "outputs": [
    {
     "data": {
      "text/plain": [
       "count     71028.000000\n",
       "mean       6566.740835\n",
       "std        5320.338460\n",
       "min           0.000000\n",
       "25%        3500.000000\n",
       "50%        5417.000000\n",
       "75%        8296.000000\n",
       "max      100000.000000\n",
       "Name: MonthlyIncome, dtype: float64"
      ]
     },
     "execution_count": 181,
     "metadata": {},
     "output_type": "execute_result"
    }
   ],
   "source": [
    "dataset['MonthlyIncome'].describe()"
   ]
  },
  {
   "cell_type": "code",
   "execution_count": null,
   "id": "8e9ab373-f33f-46bf-ad87-1df768957134",
   "metadata": {},
   "outputs": [],
   "source": []
  },
  {
   "cell_type": "markdown",
   "id": "5881e132-3b3b-4460-bb5a-171834c38008",
   "metadata": {},
   "source": [
    "#### NumberOfTimes90DaysLate max 25"
   ]
  },
  {
   "cell_type": "code",
   "execution_count": 182,
   "id": "dd41caa1-9ac5-4b89-8aee-a7b48d4bc4fe",
   "metadata": {},
   "outputs": [
    {
     "data": {
      "text/plain": [
       "count    71028.000000\n",
       "mean         0.203258\n",
       "std          3.338608\n",
       "min          0.000000\n",
       "25%          0.000000\n",
       "50%          0.000000\n",
       "75%          0.000000\n",
       "max         98.000000\n",
       "Name: NumberOfTimes90DaysLate, dtype: float64"
      ]
     },
     "execution_count": 182,
     "metadata": {},
     "output_type": "execute_result"
    }
   ],
   "source": [
    "dataset['NumberOfTimes90DaysLate'].describe()"
   ]
  },
  {
   "cell_type": "code",
   "execution_count": 183,
   "id": "fbeca3ca-c0df-4024-9a09-427e8c90598b",
   "metadata": {},
   "outputs": [],
   "source": [
    "dataset = dataset[dataset['NumberOfTimes90DaysLate'] <= 25]"
   ]
  },
  {
   "cell_type": "code",
   "execution_count": 184,
   "id": "1c4554ff-544b-48e3-bbcb-64c3903586d0",
   "metadata": {},
   "outputs": [
    {
     "data": {
      "text/plain": [
       "count    70947.000000\n",
       "mean         0.091660\n",
       "std          0.487763\n",
       "min          0.000000\n",
       "25%          0.000000\n",
       "50%          0.000000\n",
       "75%          0.000000\n",
       "max         17.000000\n",
       "Name: NumberOfTimes90DaysLate, dtype: float64"
      ]
     },
     "execution_count": 184,
     "metadata": {},
     "output_type": "execute_result"
    }
   ],
   "source": [
    "dataset['NumberOfTimes90DaysLate'].describe()"
   ]
  },
  {
   "cell_type": "code",
   "execution_count": null,
   "id": "09c9c2c9-ae77-4fc5-a9b1-624f688b0496",
   "metadata": {},
   "outputs": [],
   "source": []
  },
  {
   "cell_type": "markdown",
   "id": "3a6aee99-d6d4-43be-b1e2-a977d44334c9",
   "metadata": {},
   "source": [
    "#### NumberRealEstateLoansOrLines max 10"
   ]
  },
  {
   "cell_type": "code",
   "execution_count": 185,
   "id": "9ed14aa2-7cd9-4be6-9f50-2273c65ecde7",
   "metadata": {},
   "outputs": [
    {
     "data": {
      "text/plain": [
       "count    70947.000000\n",
       "mean         1.059115\n",
       "std          1.158609\n",
       "min          0.000000\n",
       "25%          0.000000\n",
       "50%          1.000000\n",
       "75%          2.000000\n",
       "max         54.000000\n",
       "Name: NumberRealEstateLoansOrLines, dtype: float64"
      ]
     },
     "execution_count": 185,
     "metadata": {},
     "output_type": "execute_result"
    }
   ],
   "source": [
    "dataset['NumberRealEstateLoansOrLines'].describe()"
   ]
  },
  {
   "cell_type": "code",
   "execution_count": 186,
   "id": "722e0d58-15d6-49d1-a9f1-86d78e93410f",
   "metadata": {},
   "outputs": [],
   "source": [
    "dataset = dataset[dataset['NumberOfTimes90DaysLate'] <= 10]"
   ]
  },
  {
   "cell_type": "code",
   "execution_count": 187,
   "id": "38869e5c-8d0b-42bf-b6a4-e9474a340cd3",
   "metadata": {},
   "outputs": [
    {
     "data": {
      "text/plain": [
       "count    70939.000000\n",
       "mean         1.058910\n",
       "std          1.157912\n",
       "min          0.000000\n",
       "25%          0.000000\n",
       "50%          1.000000\n",
       "75%          2.000000\n",
       "max         54.000000\n",
       "Name: NumberRealEstateLoansOrLines, dtype: float64"
      ]
     },
     "execution_count": 187,
     "metadata": {},
     "output_type": "execute_result"
    }
   ],
   "source": [
    "dataset['NumberRealEstateLoansOrLines'].describe()"
   ]
  },
  {
   "cell_type": "code",
   "execution_count": null,
   "id": "e2c13deb-9021-4c44-b11f-d85ad989a593",
   "metadata": {},
   "outputs": [],
   "source": []
  },
  {
   "cell_type": "markdown",
   "id": "45d2dec0-40cf-4946-9969-541f8b50a7d1",
   "metadata": {},
   "source": [
    "#### NumberOfDependents max 5"
   ]
  },
  {
   "cell_type": "code",
   "execution_count": 188,
   "id": "48c4cc4e-f7fe-498f-9926-efb9336f83b0",
   "metadata": {},
   "outputs": [
    {
     "data": {
      "text/plain": [
       "count    70939.000000\n",
       "mean         0.855129\n",
       "std          1.153602\n",
       "min          0.000000\n",
       "25%          0.000000\n",
       "50%          0.000000\n",
       "75%          2.000000\n",
       "max         20.000000\n",
       "Name: NumberOfDependents, dtype: float64"
      ]
     },
     "execution_count": 188,
     "metadata": {},
     "output_type": "execute_result"
    }
   ],
   "source": [
    "dataset['NumberOfDependents'].describe()"
   ]
  },
  {
   "cell_type": "code",
   "execution_count": 189,
   "id": "7daa4244-3a7e-4997-879a-424063414f73",
   "metadata": {},
   "outputs": [],
   "source": [
    "dataset = dataset[dataset['NumberOfDependents'] <= 5]"
   ]
  },
  {
   "cell_type": "code",
   "execution_count": 190,
   "id": "248ac095-14ec-4ae0-abd9-618b34e31237",
   "metadata": {},
   "outputs": [
    {
     "data": {
      "text/plain": [
       "count    70794.000000\n",
       "mean         0.843136\n",
       "std          1.121791\n",
       "min          0.000000\n",
       "25%          0.000000\n",
       "50%          0.000000\n",
       "75%          2.000000\n",
       "max          5.000000\n",
       "Name: NumberOfDependents, dtype: float64"
      ]
     },
     "execution_count": 190,
     "metadata": {},
     "output_type": "execute_result"
    }
   ],
   "source": [
    "dataset['NumberOfDependents'].describe()"
   ]
  },
  {
   "cell_type": "markdown",
   "id": "37b73410-2bad-43cb-9fb1-cae9769ab0f3",
   "metadata": {},
   "source": [
    "#### Drop NumberOfTimes90DaysLate and NumberOfTime60-89DaysPastDueNotWorse"
   ]
  },
  {
   "cell_type": "code",
   "execution_count": 191,
   "id": "60955d1b-f9ba-4e08-a84f-961ab5224b54",
   "metadata": {},
   "outputs": [],
   "source": [
    "dataset = dataset.drop(['NumberOfTimes90DaysLate','NumberOfTime60-89DaysPastDueNotWorse'], axis=1)"
   ]
  },
  {
   "cell_type": "code",
   "execution_count": null,
   "id": "88cd57d3-5bba-4a2a-b673-ffb5c6da9ded",
   "metadata": {},
   "outputs": [],
   "source": []
  },
  {
   "cell_type": "code",
   "execution_count": null,
   "id": "ccba1caf-0204-46ca-975d-5e566e702cec",
   "metadata": {},
   "outputs": [],
   "source": []
  },
  {
   "cell_type": "markdown",
   "id": "047290c0-f375-4bb5-8622-8df40c8e5017",
   "metadata": {},
   "source": [
    "### SMOTE"
   ]
  },
  {
   "cell_type": "code",
   "execution_count": 192,
   "id": "b9f84486-702b-4bf1-9b94-9ca27e87f9b5",
   "metadata": {},
   "outputs": [],
   "source": [
    "from imblearn.over_sampling import SMOTE"
   ]
  },
  {
   "cell_type": "code",
   "execution_count": 193,
   "id": "6ea45f41-1b45-40dc-8e1b-391b27257360",
   "metadata": {},
   "outputs": [
    {
     "data": {
      "text/plain": [
       "Index(['RevolvingUtilizationOfUnsecuredLines', 'Age',\n",
       "       'NumberOfTime30-59DaysPastDueNotWorse', 'DebtRatio', 'MonthlyIncome',\n",
       "       'NumberOfOpenCreditLinesAndLoans', 'NumberRealEstateLoansOrLines',\n",
       "       'NumberOfDependents', 'SeriousDlqin2yrs'],\n",
       "      dtype='object')"
      ]
     },
     "execution_count": 193,
     "metadata": {},
     "output_type": "execute_result"
    }
   ],
   "source": [
    "dataset.columns"
   ]
  },
  {
   "cell_type": "code",
   "execution_count": 194,
   "id": "dc5a5225-5053-4420-974e-4a64b8210e7c",
   "metadata": {},
   "outputs": [],
   "source": [
    "x_dataset = dataset[['RevolvingUtilizationOfUnsecuredLines', 'Age',\n",
    "       'NumberOfTime30-59DaysPastDueNotWorse', 'DebtRatio', 'MonthlyIncome',\n",
    "       'NumberOfOpenCreditLinesAndLoans', 'NumberRealEstateLoansOrLines',\n",
    "       'NumberOfDependents']]\n",
    "y_dataset = dataset['SeriousDlqin2yrs']"
   ]
  },
  {
   "cell_type": "code",
   "execution_count": 195,
   "id": "b4ed0d4c-0661-4a54-b5a5-64922d5b672d",
   "metadata": {},
   "outputs": [
    {
     "data": {
      "text/html": [
       "<div>\n",
       "<style scoped>\n",
       "    .dataframe tbody tr th:only-of-type {\n",
       "        vertical-align: middle;\n",
       "    }\n",
       "\n",
       "    .dataframe tbody tr th {\n",
       "        vertical-align: top;\n",
       "    }\n",
       "\n",
       "    .dataframe thead th {\n",
       "        text-align: right;\n",
       "    }\n",
       "</style>\n",
       "<table border=\"1\" class=\"dataframe\">\n",
       "  <thead>\n",
       "    <tr style=\"text-align: right;\">\n",
       "      <th></th>\n",
       "      <th>RevolvingUtilizationOfUnsecuredLines</th>\n",
       "      <th>Age</th>\n",
       "      <th>NumberOfTime30-59DaysPastDueNotWorse</th>\n",
       "      <th>DebtRatio</th>\n",
       "      <th>MonthlyIncome</th>\n",
       "      <th>NumberOfOpenCreditLinesAndLoans</th>\n",
       "      <th>NumberRealEstateLoansOrLines</th>\n",
       "      <th>NumberOfDependents</th>\n",
       "      <th>SeriousDlqin2yrs</th>\n",
       "    </tr>\n",
       "  </thead>\n",
       "  <tbody>\n",
       "    <tr>\n",
       "      <th>60493</th>\n",
       "      <td>1.000000</td>\n",
       "      <td>41</td>\n",
       "      <td>0</td>\n",
       "      <td>0.075603</td>\n",
       "      <td>6057.0</td>\n",
       "      <td>2</td>\n",
       "      <td>0</td>\n",
       "      <td>1.0</td>\n",
       "      <td>0</td>\n",
       "    </tr>\n",
       "    <tr>\n",
       "      <th>21757</th>\n",
       "      <td>0.860167</td>\n",
       "      <td>46</td>\n",
       "      <td>1</td>\n",
       "      <td>0.537121</td>\n",
       "      <td>5050.0</td>\n",
       "      <td>9</td>\n",
       "      <td>1</td>\n",
       "      <td>0.0</td>\n",
       "      <td>1</td>\n",
       "    </tr>\n",
       "    <tr>\n",
       "      <th>89129</th>\n",
       "      <td>0.272232</td>\n",
       "      <td>31</td>\n",
       "      <td>0</td>\n",
       "      <td>0.398012</td>\n",
       "      <td>2916.0</td>\n",
       "      <td>10</td>\n",
       "      <td>2</td>\n",
       "      <td>0.0</td>\n",
       "      <td>0</td>\n",
       "    </tr>\n",
       "    <tr>\n",
       "      <th>49283</th>\n",
       "      <td>0.940739</td>\n",
       "      <td>44</td>\n",
       "      <td>0</td>\n",
       "      <td>0.509322</td>\n",
       "      <td>12604.0</td>\n",
       "      <td>17</td>\n",
       "      <td>2</td>\n",
       "      <td>2.0</td>\n",
       "      <td>0</td>\n",
       "    </tr>\n",
       "    <tr>\n",
       "      <th>67587</th>\n",
       "      <td>0.000000</td>\n",
       "      <td>48</td>\n",
       "      <td>0</td>\n",
       "      <td>0.499417</td>\n",
       "      <td>6000.0</td>\n",
       "      <td>13</td>\n",
       "      <td>1</td>\n",
       "      <td>2.0</td>\n",
       "      <td>0</td>\n",
       "    </tr>\n",
       "  </tbody>\n",
       "</table>\n",
       "</div>"
      ],
      "text/plain": [
       "       RevolvingUtilizationOfUnsecuredLines  Age  \\\n",
       "60493                              1.000000   41   \n",
       "21757                              0.860167   46   \n",
       "89129                              0.272232   31   \n",
       "49283                              0.940739   44   \n",
       "67587                              0.000000   48   \n",
       "\n",
       "       NumberOfTime30-59DaysPastDueNotWorse  DebtRatio  MonthlyIncome  \\\n",
       "60493                                     0   0.075603         6057.0   \n",
       "21757                                     1   0.537121         5050.0   \n",
       "89129                                     0   0.398012         2916.0   \n",
       "49283                                     0   0.509322        12604.0   \n",
       "67587                                     0   0.499417         6000.0   \n",
       "\n",
       "       NumberOfOpenCreditLinesAndLoans  NumberRealEstateLoansOrLines  \\\n",
       "60493                                2                             0   \n",
       "21757                                9                             1   \n",
       "89129                               10                             2   \n",
       "49283                               17                             2   \n",
       "67587                               13                             1   \n",
       "\n",
       "       NumberOfDependents  SeriousDlqin2yrs  \n",
       "60493                 1.0                 0  \n",
       "21757                 0.0                 1  \n",
       "89129                 0.0                 0  \n",
       "49283                 2.0                 0  \n",
       "67587                 2.0                 0  "
      ]
     },
     "execution_count": 195,
     "metadata": {},
     "output_type": "execute_result"
    }
   ],
   "source": [
    "dataset.head()"
   ]
  },
  {
   "cell_type": "code",
   "execution_count": 196,
   "id": "4345cde2-ed39-447a-bf3f-f5edefdca38a",
   "metadata": {},
   "outputs": [
    {
     "data": {
      "text/plain": [
       "0    65901\n",
       "1     4893\n",
       "Name: SeriousDlqin2yrs, dtype: int64"
      ]
     },
     "execution_count": 196,
     "metadata": {},
     "output_type": "execute_result"
    }
   ],
   "source": [
    "y_dataset.value_counts()"
   ]
  },
  {
   "cell_type": "code",
   "execution_count": 197,
   "id": "feecc10e-a2e3-4674-80e1-1d58cbf32078",
   "metadata": {},
   "outputs": [],
   "source": [
    "sm = SMOTE(random_state = 12, sampling_strategy = 1.0)\n",
    "x_dataset_res, y_dataset_res = sm.fit_resample(x_dataset,y_dataset)"
   ]
  },
  {
   "cell_type": "code",
   "execution_count": 198,
   "id": "e0c5249c-b997-4db1-aac0-cc67e6f27f90",
   "metadata": {},
   "outputs": [
    {
     "data": {
      "text/plain": [
       "0    65901\n",
       "1    65901\n",
       "Name: SeriousDlqin2yrs, dtype: int64"
      ]
     },
     "execution_count": 198,
     "metadata": {},
     "output_type": "execute_result"
    }
   ],
   "source": [
    "y_dataset_res.value_counts()"
   ]
  },
  {
   "cell_type": "markdown",
   "id": "d69f04e0-d4a8-45ca-8b51-d48f287e6cc0",
   "metadata": {},
   "source": [
    "#### Need to makesure which ratio is the best, using logistic regression"
   ]
  },
  {
   "cell_type": "code",
   "execution_count": 199,
   "id": "51677100-5d74-48f0-af46-237b1f95b23d",
   "metadata": {},
   "outputs": [],
   "source": [
    "from sklearn.model_selection import GridSearchCV"
   ]
  },
  {
   "cell_type": "code",
   "execution_count": 200,
   "id": "6e738af4-eb04-4068-b518-c5b4525a8a81",
   "metadata": {},
   "outputs": [],
   "source": [
    "weights = np.linspace(0.05, 0.95, 20)\n",
    "gsc = GridSearchCV(\n",
    "    estimator=LogisticRegression(),\n",
    "    param_grid={\n",
    "        'class_weight': [{0: x, 1: 1.0-x} for x in weights]\n",
    "    },\n",
    "    scoring='f1',\n",
    "    cv=5\n",
    ")\n",
    "grid_result = gsc.fit(x_dataset, y_dataset)"
   ]
  },
  {
   "cell_type": "code",
   "execution_count": 201,
   "id": "0f712ab8-a625-4629-80f7-be382009b167",
   "metadata": {},
   "outputs": [],
   "source": [
    "clf = LogisticRegression(**grid_result.best_params_).fit(x_dataset, y_dataset)"
   ]
  },
  {
   "cell_type": "code",
   "execution_count": 202,
   "id": "836ea48a-1922-4c1e-82d8-810aae657f62",
   "metadata": {},
   "outputs": [],
   "source": [
    "x_test = joblib.load(\"data/processed/x_test.pkl\")\n",
    "y_test = joblib.load(\"data/processed/y_test.pkl\")"
   ]
  },
  {
   "cell_type": "code",
   "execution_count": 203,
   "id": "268392ed-5ace-4bf7-8d42-72b072916405",
   "metadata": {},
   "outputs": [],
   "source": [
    "test = pd.concat([x_test, y_test], axis = 1)\n",
    "test =test.dropna()\n",
    "x_test = test[['RevolvingUtilizationOfUnsecuredLines', 'Age',\n",
    "       'NumberOfTime30-59DaysPastDueNotWorse', 'DebtRatio', 'MonthlyIncome',\n",
    "       'NumberOfOpenCreditLinesAndLoans', 'NumberRealEstateLoansOrLines',\n",
    "       'NumberOfDependents']]\n",
    "y_test = test['SeriousDlqin2yrs']"
   ]
  },
  {
   "cell_type": "code",
   "execution_count": 204,
   "id": "d919c709-63d9-48c8-8585-ed85f96fd258",
   "metadata": {},
   "outputs": [],
   "source": [
    "Y_Test_Pred = clf.predict(x_test)"
   ]
  },
  {
   "cell_type": "code",
   "execution_count": null,
   "id": "0b73ba1a-641e-4408-847e-1484008a8a2d",
   "metadata": {},
   "outputs": [],
   "source": []
  },
  {
   "cell_type": "code",
   "execution_count": 205,
   "id": "340896ec-7144-4c0a-bd9b-ac152cbbbf28",
   "metadata": {},
   "outputs": [
    {
     "data": {
      "text/html": [
       "<div>\n",
       "<style scoped>\n",
       "    .dataframe tbody tr th:only-of-type {\n",
       "        vertical-align: middle;\n",
       "    }\n",
       "\n",
       "    .dataframe tbody tr th {\n",
       "        vertical-align: top;\n",
       "    }\n",
       "\n",
       "    .dataframe thead th {\n",
       "        text-align: right;\n",
       "    }\n",
       "</style>\n",
       "<table border=\"1\" class=\"dataframe\">\n",
       "  <thead>\n",
       "    <tr style=\"text-align: right;\">\n",
       "      <th>Actual</th>\n",
       "      <th>0</th>\n",
       "      <th>1</th>\n",
       "    </tr>\n",
       "    <tr>\n",
       "      <th>Predicted</th>\n",
       "      <th></th>\n",
       "      <th></th>\n",
       "    </tr>\n",
       "  </thead>\n",
       "  <tbody>\n",
       "    <tr>\n",
       "      <th>0</th>\n",
       "      <td>8044</td>\n",
       "      <td>374</td>\n",
       "    </tr>\n",
       "    <tr>\n",
       "      <th>1</th>\n",
       "      <td>909</td>\n",
       "      <td>295</td>\n",
       "    </tr>\n",
       "  </tbody>\n",
       "</table>\n",
       "</div>"
      ],
      "text/plain": [
       "Actual        0    1\n",
       "Predicted           \n",
       "0          8044  374\n",
       "1           909  295"
      ]
     },
     "execution_count": 205,
     "metadata": {},
     "output_type": "execute_result"
    }
   ],
   "source": [
    "pd.crosstab(Y_Test_Pred, y_test, rownames=['Predicted'], colnames=['Actual'])"
   ]
  },
  {
   "cell_type": "code",
   "execution_count": 206,
   "id": "729a814b-c057-49d2-8b9b-f457eca56024",
   "metadata": {},
   "outputs": [],
   "source": [
    "def generate_model_report(y_actual, y_predicted):\n",
    "    print(\"Accuracy = \" , accuracy_score(y_actual, y_predicted))\n",
    "    print(\"Precision = \" ,precision_score(y_actual, y_predicted))\n",
    "    print(\"Recall = \" ,recall_score(y_actual, y_predicted))\n",
    "    print(\"F1 Score = \" ,f1_score(y_actual, y_predicted))\n",
    "    pass"
   ]
  },
  {
   "cell_type": "code",
   "execution_count": 207,
   "id": "cbde3a38-109b-48b4-b991-cc2ea84a427d",
   "metadata": {},
   "outputs": [
    {
     "name": "stdout",
     "output_type": "stream",
     "text": [
      "Accuracy =  0.866659738100187\n",
      "Precision =  0.24501661129568106\n",
      "Recall =  0.44095665171898357\n",
      "F1 Score =  0.3150026695141484\n"
     ]
    }
   ],
   "source": [
    "generate_model_report(y_test, Y_Test_Pred)"
   ]
  },
  {
   "cell_type": "code",
   "execution_count": 208,
   "id": "c5fc895c-6da9-4f5e-a4dc-4242db79981e",
   "metadata": {},
   "outputs": [],
   "source": [
    "def generate_auc_roc_curve(clf, x_test):\n",
    "    y_pred_proba = clf.predict_proba(x_test)[:, 1]\n",
    "    fpr, tpr, thresholds = roc_curve(y_test,  y_pred_proba)\n",
    "    auc = roc_auc_score(y_test, y_pred_proba)\n",
    "    plt.plot(fpr,tpr,label=\"AUC ROC Curve with Area Under the curve =\"+str(auc))\n",
    "    plt.legend(loc=4)\n",
    "    plt.show()\n",
    "    pass"
   ]
  },
  {
   "cell_type": "code",
   "execution_count": 209,
   "id": "2b475dd4-10cc-4d29-9e8b-0e9fb79644fe",
   "metadata": {},
   "outputs": [
    {
     "data": {
      "image/png": "[encoded data removed]",
      "text/plain": [
       "<Figure size 432x288 with 1 Axes>"
      ]
     },
     "metadata": {
      "needs_background": "light"
     },
     "output_type": "display_data"
    }
   ],
   "source": [
    "generate_auc_roc_curve(clf, x_test)"
   ]
  },
  {
   "cell_type": "code",
   "execution_count": 210,
   "id": "f3c92a4f-92dd-4303-ba22-2b9a07de07d1",
   "metadata": {},
   "outputs": [
    {
     "data": {
      "text/plain": [
       "array([0.005     , 0.03222222, 0.05944444, 0.08666667, 0.11388889,\n",
       "       0.14111111, 0.16833333, 0.19555556, 0.22277778, 0.25      ])"
      ]
     },
     "execution_count": 210,
     "metadata": {},
     "output_type": "execute_result"
    }
   ],
   "source": [
    "weights = np.linspace(0.005, 0.25, 10)\n",
    "weights"
   ]
  },
  {
   "cell_type": "code",
   "execution_count": null,
   "id": "396d009c-050a-4229-b7cd-115954f3c3d5",
   "metadata": {},
   "outputs": [],
   "source": []
  },
  {
   "cell_type": "code",
   "execution_count": 211,
   "id": "20201d74-960d-4ed9-bf76-a3ff52fbadf3",
   "metadata": {},
   "outputs": [],
   "source": [
    "# pipe = make_pipeline(\n",
    "#     SMOTE(),\n",
    "#     LogisticRegression()\n",
    "# )\n",
    "\n",
    "# weights = np.linspace(0.005, 0.25, 10)\n",
    "\n",
    "# pipeline = make_pipeline(SMOTE(), RandomForestClassifier(random_state=42))\n",
    "# parameters = {\n",
    "#     'smote__sampling_strategy': ['auto', 0.5, 0.7, 0.9],\n",
    "#     'randomforestclassifier__n_estimators': [50, 100, 200]\n",
    "# }\n",
    "\n",
    "# scoring_metric = 'f1'\n",
    "\n",
    "# gsc = GridSearchCV(pipeline, parameters, cv=5, scoring=scoring_metric, verbose=1\n",
    "# )\n",
    "\n",
    "# grid_result = gsc.fit(x_dataset, y_dataset)\n",
    "\n",
    "# # print(\"Best parameters : %s\" % grid_result.best_params_)\n",
    "# # weight_f1_score_df = pd.DataFrame({ 'score': grid_result.cv_results_['mean_test_score'],\n",
    "# #                                    'weight': weights })\n",
    "# # weight_f1_score_df.plot(x='weight')"
   ]
  },
  {
   "cell_type": "code",
   "execution_count": 212,
   "id": "c4c3f717-cb68-471b-8e8c-84d5f882b8a7",
   "metadata": {},
   "outputs": [],
   "source": [
    "# grid_result = gsc.fit(x_dataset, y_dataset)"
   ]
  },
  {
   "cell_type": "code",
   "execution_count": 213,
   "id": "5a8e1c7f-0c0d-48a8-9f9b-0a264bca3739",
   "metadata": {},
   "outputs": [],
   "source": [
    "# print(\"Best parameters : %s\" % grid_result.best_params_)\n",
    "# # weight_f1_score_df = pd.DataFrame({ 'score': grid_result.cv_results_['mean_test_score'],\n",
    "#                                    # 'weight': weights })\n",
    "# # weight_f1_score_df.plot(x='weight')"
   ]
  },
  {
   "cell_type": "code",
   "execution_count": null,
   "id": "f6ad2b5b-6cca-4a02-967a-c4863c3e350d",
   "metadata": {},
   "outputs": [],
   "source": []
  },
  {
   "cell_type": "code",
   "execution_count": null,
   "id": "1092b785-aa55-438d-82e4-8384fbe0caae",
   "metadata": {},
   "outputs": [],
   "source": []
  },
  {
   "cell_type": "code",
   "execution_count": 214,
   "id": "c6d6a3b5-ad54-4e96-9a9d-1a2717542ef1",
   "metadata": {},
   "outputs": [],
   "source": [
    "sm = SMOTE(random_state = 12, sampling_strategy = 'auto')\n",
    "x_dataset_res, y_dataset_res = sm.fit_resample(x_dataset,y_dataset)"
   ]
  },
  {
   "cell_type": "code",
   "execution_count": 215,
   "id": "79631727-d63d-4dc2-8a14-8ec98f2c564a",
   "metadata": {},
   "outputs": [
    {
     "data": {
      "text/plain": [
       "0    65901\n",
       "1    65901\n",
       "Name: SeriousDlqin2yrs, dtype: int64"
      ]
     },
     "execution_count": 215,
     "metadata": {},
     "output_type": "execute_result"
    }
   ],
   "source": [
    "y_dataset_res.value_counts()"
   ]
  },
  {
   "cell_type": "code",
   "execution_count": 216,
   "id": "fcdbbab8-b278-4ea8-8686-e610eae23ed6",
   "metadata": {},
   "outputs": [
    {
     "data": {
      "text/plain": [
       "0    65901\n",
       "1    65901\n",
       "Name: SeriousDlqin2yrs, dtype: int64"
      ]
     },
     "execution_count": 216,
     "metadata": {},
     "output_type": "execute_result"
    }
   ],
   "source": [
    "y_dataset_res.value_counts()"
   ]
  },
  {
   "cell_type": "code",
   "execution_count": null,
   "id": "dfe1aec7-0331-4be3-8041-fd3611b9bb46",
   "metadata": {},
   "outputs": [],
   "source": []
  },
  {
   "cell_type": "markdown",
   "id": "acf752d6-0fba-4076-bd58-227e1f30c034",
   "metadata": {},
   "source": [
    "### Modeling"
   ]
  },
  {
   "cell_type": "markdown",
   "id": "1816cf34-2225-4ee5-98db-7a1decece5a3",
   "metadata": {},
   "source": [
    "### - Random Forest"
   ]
  },
  {
   "cell_type": "code",
   "execution_count": 217,
   "id": "ffb93797-0503-4182-9a60-9362780d73cb",
   "metadata": {},
   "outputs": [],
   "source": [
    "model_rf = RandomForestClassifier()"
   ]
  },
  {
   "cell_type": "code",
   "execution_count": 218,
   "id": "0a62182f-7c0e-4aeb-89d1-6e974994c198",
   "metadata": {},
   "outputs": [
    {
     "data": {
      "text/html": [
       "<style>#sk-container-id-3 {color: black;background-color: white;}#sk-container-id-3 pre{padding: 0;}#sk-container-id-3 div.sk-toggleable {background-color: white;}#sk-container-id-3 label.sk-toggleable__label {cursor: pointer;display: block;width: 100%;margin-bottom: 0;padding: 0.3em;box-sizing: border-box;text-align: center;}#sk-container-id-3 label.sk-toggleable__label-arrow:before {content: \"▸\";float: left;margin-right: 0.25em;color: #696969;}#sk-container-id-3 label.sk-toggleable__label-arrow:hover:before {color: black;}#sk-container-id-3 div.sk-estimator:hover label.sk-toggleable__label-arrow:before {color: black;}#sk-container-id-3 div.sk-toggleable__content {max-height: 0;max-width: 0;overflow: hidden;text-align: left;background-color: #f0f8ff;}#sk-container-id-3 div.sk-toggleable__content pre {margin: 0.2em;color: black;border-radius: 0.25em;background-color: #f0f8ff;}#sk-container-id-3 input.sk-toggleable__control:checked~div.sk-toggleable__content {max-height: 200px;max-width: 100%;overflow: auto;}#sk-container-id-3 input.sk-toggleable__control:checked~label.sk-toggleable__label-arrow:before {content: \"▾\";}#sk-container-id-3 div.sk-estimator input.sk-toggleable__control:checked~label.sk-toggleable__label {background-color: #d4ebff;}#sk-container-id-3 div.sk-label input.sk-toggleable__control:checked~label.sk-toggleable__label {background-color: #d4ebff;}#sk-container-id-3 input.sk-hidden--visually {border: 0;clip: rect(1px 1px 1px 1px);clip: rect(1px, 1px, 1px, 1px);height: 1px;margin: -1px;overflow: hidden;padding: 0;position: absolute;width: 1px;}#sk-container-id-3 div.sk-estimator {font-family: monospace;background-color: #f0f8ff;border: 1px dotted black;border-radius: 0.25em;box-sizing: border-box;margin-bottom: 0.5em;}#sk-container-id-3 div.sk-estimator:hover {background-color: #d4ebff;}#sk-container-id-3 div.sk-parallel-item::after {content: \"\";width: 100%;border-bottom: 1px solid gray;flex-grow: 1;}#sk-container-id-3 div.sk-label:hover label.sk-toggleable__label {background-color: #d4ebff;}#sk-container-id-3 div.sk-serial::before {content: \"\";position: absolute;border-left: 1px solid gray;box-sizing: border-box;top: 0;bottom: 0;left: 50%;z-index: 0;}#sk-container-id-3 div.sk-serial {display: flex;flex-direction: column;align-items: center;background-color: white;padding-right: 0.2em;padding-left: 0.2em;position: relative;}#sk-container-id-3 div.sk-item {position: relative;z-index: 1;}#sk-container-id-3 div.sk-parallel {display: flex;align-items: stretch;justify-content: center;background-color: white;position: relative;}#sk-container-id-3 div.sk-item::before, #sk-container-id-3 div.sk-parallel-item::before {content: \"\";position: absolute;border-left: 1px solid gray;box-sizing: border-box;top: 0;bottom: 0;left: 50%;z-index: -1;}#sk-container-id-3 div.sk-parallel-item {display: flex;flex-direction: column;z-index: 1;position: relative;background-color: white;}#sk-container-id-3 div.sk-parallel-item:first-child::after {align-self: flex-end;width: 50%;}#sk-container-id-3 div.sk-parallel-item:last-child::after {align-self: flex-start;width: 50%;}#sk-container-id-3 div.sk-parallel-item:only-child::after {width: 0;}#sk-container-id-3 div.sk-dashed-wrapped {border: 1px dashed gray;margin: 0 0.4em 0.5em 0.4em;box-sizing: border-box;padding-bottom: 0.4em;background-color: white;}#sk-container-id-3 div.sk-label label {font-family: monospace;font-weight: bold;display: inline-block;line-height: 1.2em;}#sk-container-id-3 div.sk-label-container {text-align: center;}#sk-container-id-3 div.sk-container {/* jupyter's `normalize.less` sets `[hidden] { display: none; }` but bootstrap.min.css set `[hidden] { display: none !important; }` so we also need the `!important` here to be able to override the default hidden behavior on the sphinx rendered scikit-learn.org. See: https://github.com/scikit-learn/scikit-learn/issues/21755 */display: inline-block !important;position: relative;}#sk-container-id-3 div.sk-text-repr-fallback {display: none;}</style><div id=\"sk-container-id-3\" class=\"sk-top-container\"><div class=\"sk-text-repr-fallback\"><pre>RandomForestClassifier()</pre><b>In a Jupyter environment, please rerun this cell to show the HTML representation or trust the notebook. <br />On GitHub, the HTML representation is unable to render, please try loading this page with nbviewer.org.</b></div><div class=\"sk-container\" hidden><div class=\"sk-item\"><div class=\"sk-estimator sk-toggleable\"><input class=\"sk-toggleable__control sk-hidden--visually\" id=\"sk-estimator-id-3\" type=\"checkbox\" checked><label for=\"sk-estimator-id-3\" class=\"sk-toggleable__label sk-toggleable__label-arrow\">RandomForestClassifier</label><div class=\"sk-toggleable__content\"><pre>RandomForestClassifier()</pre></div></div></div></div></div>"
      ],
      "text/plain": [
       "RandomForestClassifier()"
      ]
     },
     "execution_count": 218,
     "metadata": {},
     "output_type": "execute_result"
    }
   ],
   "source": [
    "# Train model\n",
    "model_rf.fit(x_dataset_res, y_dataset_res)"
   ]
  },
  {
   "cell_type": "markdown",
   "id": "c2bcbbb1-13ca-40df-a56d-e0f07868c484",
   "metadata": {},
   "source": [
    "#### Evaluation and Metrics"
   ]
  },
  {
   "cell_type": "code",
   "execution_count": 219,
   "id": "6b723347-2eb5-4151-8440-da3618d355ba",
   "metadata": {},
   "outputs": [],
   "source": [
    "# x_valid = x_valid.dropna()"
   ]
  },
  {
   "cell_type": "code",
   "execution_count": 222,
   "id": "2adc08ef-2a0f-4d74-af70-ed26a1726a5a",
   "metadata": {},
   "outputs": [],
   "source": [
    "x_valid = x_valid[['RevolvingUtilizationOfUnsecuredLines', 'Age',\n",
    "       'NumberOfTime30-59DaysPastDueNotWorse', 'DebtRatio', 'MonthlyIncome',\n",
    "       'NumberOfOpenCreditLinesAndLoans', 'NumberRealEstateLoansOrLines',\n",
    "       'NumberOfDependents']]"
   ]
  },
  {
   "cell_type": "code",
   "execution_count": 223,
   "id": "1e5c7b00-bb1e-4df6-a488-9e9c7ee610ad",
   "metadata": {},
   "outputs": [],
   "source": [
    "y_pred = model_rf.predict(x_valid)"
   ]
  },
  {
   "cell_type": "code",
   "execution_count": 224,
   "id": "4c75266b-2668-4cfd-923c-29c5ce8db9f1",
   "metadata": {},
   "outputs": [
    {
     "name": "stdout",
     "output_type": "stream",
     "text": [
      "              precision    recall  f1-score   support\n",
      "\n",
      "           0       0.95      0.92      0.93     35812\n",
      "           1       0.23      0.33      0.28      2674\n",
      "\n",
      "    accuracy                           0.88     38486\n",
      "   macro avg       0.59      0.63      0.60     38486\n",
      "weighted avg       0.90      0.88      0.89     38486\n",
      "\n"
     ]
    }
   ],
   "source": [
    "print(classification_report(y_valid, y_pred))"
   ]
  },
  {
   "cell_type": "code",
   "execution_count": null,
   "id": "a750ca8d-66d0-4df7-b2c2-6bc65e910393",
   "metadata": {},
   "outputs": [],
   "source": [
    "x_test = x_test[['RevolvingUtilizationOfUnsecuredLines', 'Age',\n",
    "       'NumberOfTime30-59DaysPastDueNotWorse', 'DebtRatio', 'MonthlyIncome',\n",
    "       'NumberOfOpenCreditLinesAndLoans', 'NumberRealEstateLoansOrLines',\n",
    "       'NumberOfDependents']]"
   ]
  },
  {
   "cell_type": "code",
   "execution_count": 226,
   "id": "27431d1a-c706-4299-bbca-0aab8d4d20d4",
   "metadata": {},
   "outputs": [],
   "source": [
    "y_pred = model_rf.predict(x_test)"
   ]
  },
  {
   "cell_type": "code",
   "execution_count": 227,
   "id": "77d2893c-6fdb-45ae-aed5-23d5aed6dbe1",
   "metadata": {},
   "outputs": [
    {
     "name": "stdout",
     "output_type": "stream",
     "text": [
      "              precision    recall  f1-score   support\n",
      "\n",
      "           0       0.95      0.92      0.94      8953\n",
      "           1       0.25      0.34      0.29       669\n",
      "\n",
      "    accuracy                           0.88      9622\n",
      "   macro avg       0.60      0.63      0.61      9622\n",
      "weighted avg       0.90      0.88      0.89      9622\n",
      "\n"
     ]
    }
   ],
   "source": [
    "print(classification_report(y_test, y_pred))"
   ]
  },
  {
   "cell_type": "code",
   "execution_count": 230,
   "id": "fb819abb-d57c-442e-9d3b-bb917501dd64",
   "metadata": {},
   "outputs": [
    {
     "data": {
      "text/plain": [
       "<sklearn.metrics._plot.confusion_matrix.ConfusionMatrixDisplay at 0x246315cafa0>"
      ]
     },
     "execution_count": 230,
     "metadata": {},
     "output_type": "execute_result"
    },
    {
     "data": {
      "image/png": "[encoded data removed]",
      "text/plain": [
       "<Figure size 432x288 with 2 Axes>"
      ]
     },
     "metadata": {
      "needs_background": "light"
     },
     "output_type": "display_data"
    }
   ],
   "source": [
    "ConfusionMatrixDisplay.from_predictions(y_test, y_pred)"
   ]
  },
  {
   "cell_type": "code",
   "execution_count": null,
   "id": "b2c50632-521b-4014-82be-7f04a61826b1",
   "metadata": {},
   "outputs": [],
   "source": []
  },
  {
   "cell_type": "code",
   "execution_count": null,
   "id": "642eb224-d7a9-49a6-b90d-62337a5e9032",
   "metadata": {},
   "outputs": [],
   "source": []
  },
  {
   "cell_type": "markdown",
   "id": "e5e78ec2-1841-4d47-b7f8-1b3dd9b944f5",
   "metadata": {},
   "source": [
    "### - XGBoost"
   ]
  },
  {
   "cell_type": "code",
   "execution_count": 231,
   "id": "906f8bbd-93ee-4152-b367-4e71840c434a",
   "metadata": {},
   "outputs": [
    {
     "data": {
      "text/html": [
       "<style>#sk-container-id-4 {color: black;background-color: white;}#sk-container-id-4 pre{padding: 0;}#sk-container-id-4 div.sk-toggleable {background-color: white;}#sk-container-id-4 label.sk-toggleable__label {cursor: pointer;display: block;width: 100%;margin-bottom: 0;padding: 0.3em;box-sizing: border-box;text-align: center;}#sk-container-id-4 label.sk-toggleable__label-arrow:before {content: \"▸\";float: left;margin-right: 0.25em;color: #696969;}#sk-container-id-4 label.sk-toggleable__label-arrow:hover:before {color: black;}#sk-container-id-4 div.sk-estimator:hover label.sk-toggleable__label-arrow:before {color: black;}#sk-container-id-4 div.sk-toggleable__content {max-height: 0;max-width: 0;overflow: hidden;text-align: left;background-color: #f0f8ff;}#sk-container-id-4 div.sk-toggleable__content pre {margin: 0.2em;color: black;border-radius: 0.25em;background-color: #f0f8ff;}#sk-container-id-4 input.sk-toggleable__control:checked~div.sk-toggleable__content {max-height: 200px;max-width: 100%;overflow: auto;}#sk-container-id-4 input.sk-toggleable__control:checked~label.sk-toggleable__label-arrow:before {content: \"▾\";}#sk-container-id-4 div.sk-estimator input.sk-toggleable__control:checked~label.sk-toggleable__label {background-color: #d4ebff;}#sk-container-id-4 div.sk-label input.sk-toggleable__control:checked~label.sk-toggleable__label {background-color: #d4ebff;}#sk-container-id-4 input.sk-hidden--visually {border: 0;clip: rect(1px 1px 1px 1px);clip: rect(1px, 1px, 1px, 1px);height: 1px;margin: -1px;overflow: hidden;padding: 0;position: absolute;width: 1px;}#sk-container-id-4 div.sk-estimator {font-family: monospace;background-color: #f0f8ff;border: 1px dotted black;border-radius: 0.25em;box-sizing: border-box;margin-bottom: 0.5em;}#sk-container-id-4 div.sk-estimator:hover {background-color: #d4ebff;}#sk-container-id-4 div.sk-parallel-item::after {content: \"\";width: 100%;border-bottom: 1px solid gray;flex-grow: 1;}#sk-container-id-4 div.sk-label:hover label.sk-toggleable__label {background-color: #d4ebff;}#sk-container-id-4 div.sk-serial::before {content: \"\";position: absolute;border-left: 1px solid gray;box-sizing: border-box;top: 0;bottom: 0;left: 50%;z-index: 0;}#sk-container-id-4 div.sk-serial {display: flex;flex-direction: column;align-items: center;background-color: white;padding-right: 0.2em;padding-left: 0.2em;position: relative;}#sk-container-id-4 div.sk-item {position: relative;z-index: 1;}#sk-container-id-4 div.sk-parallel {display: flex;align-items: stretch;justify-content: center;background-color: white;position: relative;}#sk-container-id-4 div.sk-item::before, #sk-container-id-4 div.sk-parallel-item::before {content: \"\";position: absolute;border-left: 1px solid gray;box-sizing: border-box;top: 0;bottom: 0;left: 50%;z-index: -1;}#sk-container-id-4 div.sk-parallel-item {display: flex;flex-direction: column;z-index: 1;position: relative;background-color: white;}#sk-container-id-4 div.sk-parallel-item:first-child::after {align-self: flex-end;width: 50%;}#sk-container-id-4 div.sk-parallel-item:last-child::after {align-self: flex-start;width: 50%;}#sk-container-id-4 div.sk-parallel-item:only-child::after {width: 0;}#sk-container-id-4 div.sk-dashed-wrapped {border: 1px dashed gray;margin: 0 0.4em 0.5em 0.4em;box-sizing: border-box;padding-bottom: 0.4em;background-color: white;}#sk-container-id-4 div.sk-label label {font-family: monospace;font-weight: bold;display: inline-block;line-height: 1.2em;}#sk-container-id-4 div.sk-label-container {text-align: center;}#sk-container-id-4 div.sk-container {/* jupyter's `normalize.less` sets `[hidden] { display: none; }` but bootstrap.min.css set `[hidden] { display: none !important; }` so we also need the `!important` here to be able to override the default hidden behavior on the sphinx rendered scikit-learn.org. See: https://github.com/scikit-learn/scikit-learn/issues/21755 */display: inline-block !important;position: relative;}#sk-container-id-4 div.sk-text-repr-fallback {display: none;}</style><div id=\"sk-container-id-4\" class=\"sk-top-container\"><div class=\"sk-text-repr-fallback\"><pre>XGBClassifier(base_score=None, booster=None, callbacks=None,\n",
       "              colsample_bylevel=None, colsample_bynode=None,\n",
       "              colsample_bytree=None, early_stopping_rounds=None,\n",
       "              enable_categorical=False, eval_metric=None, feature_types=None,\n",
       "              gamma=None, gpu_id=None, grow_policy=None, importance_type=None,\n",
       "              interaction_constraints=None, learning_rate=None, max_bin=None,\n",
       "              max_cat_threshold=None, max_cat_to_onehot=None,\n",
       "              max_delta_step=None, max_depth=None, max_leaves=None,\n",
       "              min_child_weight=None, missing=nan, monotone_constraints=None,\n",
       "              n_estimators=100, n_jobs=None, num_parallel_tree=None,\n",
       "              predictor=None, random_state=None, ...)</pre><b>In a Jupyter environment, please rerun this cell to show the HTML representation or trust the notebook. <br />On GitHub, the HTML representation is unable to render, please try loading this page with nbviewer.org.</b></div><div class=\"sk-container\" hidden><div class=\"sk-item\"><div class=\"sk-estimator sk-toggleable\"><input class=\"sk-toggleable__control sk-hidden--visually\" id=\"sk-estimator-id-4\" type=\"checkbox\" checked><label for=\"sk-estimator-id-4\" class=\"sk-toggleable__label sk-toggleable__label-arrow\">XGBClassifier</label><div class=\"sk-toggleable__content\"><pre>XGBClassifier(base_score=None, booster=None, callbacks=None,\n",
       "              colsample_bylevel=None, colsample_bynode=None,\n",
       "              colsample_bytree=None, early_stopping_rounds=None,\n",
       "              enable_categorical=False, eval_metric=None, feature_types=None,\n",
       "              gamma=None, gpu_id=None, grow_policy=None, importance_type=None,\n",
       "              interaction_constraints=None, learning_rate=None, max_bin=None,\n",
       "              max_cat_threshold=None, max_cat_to_onehot=None,\n",
       "              max_delta_step=None, max_depth=None, max_leaves=None,\n",
       "              min_child_weight=None, missing=nan, monotone_constraints=None,\n",
       "              n_estimators=100, n_jobs=None, num_parallel_tree=None,\n",
       "              predictor=None, random_state=None, ...)</pre></div></div></div></div></div>"
      ],
      "text/plain": [
       "XGBClassifier(base_score=None, booster=None, callbacks=None,\n",
       "              colsample_bylevel=None, colsample_bynode=None,\n",
       "              colsample_bytree=None, early_stopping_rounds=None,\n",
       "              enable_categorical=False, eval_metric=None, feature_types=None,\n",
       "              gamma=None, gpu_id=None, grow_policy=None, importance_type=None,\n",
       "              interaction_constraints=None, learning_rate=None, max_bin=None,\n",
       "              max_cat_threshold=None, max_cat_to_onehot=None,\n",
       "              max_delta_step=None, max_depth=None, max_leaves=None,\n",
       "              min_child_weight=None, missing=nan, monotone_constraints=None,\n",
       "              n_estimators=100, n_jobs=None, num_parallel_tree=None,\n",
       "              predictor=None, random_state=None, ...)"
      ]
     },
     "execution_count": 231,
     "metadata": {},
     "output_type": "execute_result"
    }
   ],
   "source": [
    "model_xgb = XGBClassifier()\n",
    "model_xgb.fit(x_dataset_res, y_dataset_res)"
   ]
  },
  {
   "cell_type": "code",
   "execution_count": 232,
   "id": "cd65242f-6656-4e19-9cf0-8cf063e30967",
   "metadata": {},
   "outputs": [],
   "source": [
    "xgb_pred = model_xgb.predict(x_valid)"
   ]
  },
  {
   "cell_type": "code",
   "execution_count": 234,
   "id": "770fc5b8-ffe8-4bd3-9548-1224f7dfffc8",
   "metadata": {},
   "outputs": [
    {
     "name": "stdout",
     "output_type": "stream",
     "text": [
      "              precision    recall  f1-score   support\n",
      "\n",
      "           0       0.95      0.92      0.93     35812\n",
      "           1       0.23      0.35      0.28      2674\n",
      "\n",
      "    accuracy                           0.88     38486\n",
      "   macro avg       0.59      0.63      0.61     38486\n",
      "weighted avg       0.90      0.88      0.89     38486\n",
      "\n"
     ]
    }
   ],
   "source": [
    "print(classification_report(y_valid, xgb_pred))"
   ]
  },
  {
   "cell_type": "code",
   "execution_count": null,
   "id": "5b516744-6503-4ce8-b093-e6ceeaf08e3d",
   "metadata": {},
   "outputs": [],
   "source": []
  },
  {
   "cell_type": "code",
   "execution_count": 236,
   "id": "9bb2a970-afd2-43e5-82ea-c16ae862b5ec",
   "metadata": {},
   "outputs": [],
   "source": [
    "y_pred = model_xgb.predict(x_test)"
   ]
  },
  {
   "cell_type": "code",
   "execution_count": 237,
   "id": "44d22f38-926e-48d5-b4df-df492d81b28b",
   "metadata": {},
   "outputs": [
    {
     "name": "stdout",
     "output_type": "stream",
     "text": [
      "              precision    recall  f1-score   support\n",
      "\n",
      "           0       0.95      0.92      0.93      8953\n",
      "           1       0.24      0.35      0.28       669\n",
      "\n",
      "    accuracy                           0.88      9622\n",
      "   macro avg       0.59      0.63      0.61      9622\n",
      "weighted avg       0.90      0.88      0.89      9622\n",
      "\n"
     ]
    }
   ],
   "source": [
    "print(classification_report(y_test, y_pred))"
   ]
  },
  {
   "cell_type": "code",
   "execution_count": 238,
   "id": "9ae6d875-e6d2-431f-afa5-d7156457a970",
   "metadata": {},
   "outputs": [
    {
     "data": {
      "text/plain": [
       "<sklearn.metrics._plot.confusion_matrix.ConfusionMatrixDisplay at 0x24633364fa0>"
      ]
     },
     "execution_count": 238,
     "metadata": {},
     "output_type": "execute_result"
    },
    {
     "data": {
      "image/png": "[encoded data removed]",
      "text/plain": [
       "<Figure size 432x288 with 2 Axes>"
      ]
     },
     "metadata": {
      "needs_background": "light"
     },
     "output_type": "display_data"
    }
   ],
   "source": [
    "ConfusionMatrixDisplay.from_predictions(y_test, y_pred)"
   ]
  },
  {
   "cell_type": "code",
   "execution_count": 243,
   "id": "82f9fb2c-f969-4fb8-a98f-728cf81c2f5e",
   "metadata": {},
   "outputs": [],
   "source": [
    "import src.util as utils"
   ]
  },
  {
   "cell_type": "code",
   "execution_count": 245,
   "id": "47bb76e9-c10d-45e2-b10a-dfb2f9ca2e41",
   "metadata": {},
   "outputs": [],
   "source": [
    "utils.pickle_dump(model_xgb, \"models/production_model_path.pkl\")"
   ]
  },
  {
   "cell_type": "code",
   "execution_count": null,
   "id": "844bca70-a27e-4a4e-b6c2-108fc61584bb",
   "metadata": {},
   "outputs": [],
   "source": []
  },
  {
   "cell_type": "code",
   "execution_count": null,
   "id": "b6a4c714-3b5a-49c6-847b-94aed0ba9400",
   "metadata": {},
   "outputs": [],
   "source": []
  },
  {
   "cell_type": "code",
   "execution_count": null,
   "id": "0fc5aa75-9789-473f-a6b9-62d0c09b2a6c",
   "metadata": {},
   "outputs": [],
   "source": []
  },
  {
   "cell_type": "code",
   "execution_count": null,
   "id": "c56c8619-17f3-4ff6-b824-ded8190429e5",
   "metadata": {},
   "outputs": [],
   "source": []
  },
  {
   "cell_type": "code",
   "execution_count": null,
   "id": "1e87ee55-2141-4644-9795-00297def358b",
   "metadata": {},
   "outputs": [],
   "source": []
  },
  {
   "cell_type": "code",
   "execution_count": null,
   "id": "f463703b-0c12-4b22-be0f-003a9588a31f",
   "metadata": {},
   "outputs": [],
   "source": []
  },
  {
   "cell_type": "code",
   "execution_count": null,
   "id": "1a85e569-7fbd-4cf9-b2f7-d6a7b7eb977d",
   "metadata": {},
   "outputs": [],
   "source": []
  },
  {
   "cell_type": "markdown",
   "id": "832c4256-b406-4da5-90b3-56ea01f61d67",
   "metadata": {},
   "source": [
    "------------------------"
   ]
  },
  {
   "cell_type": "markdown",
   "id": "4e7fc5a6-ecc8-443c-8802-dac48bb83db9",
   "metadata": {},
   "source": [
    "#### Bekas SMOTE"
   ]
  },
  {
   "cell_type": "code",
   "execution_count": null,
   "id": "2e5011d0-ef4d-417c-92ea-abf0470a44a5",
   "metadata": {},
   "outputs": [],
   "source": [
    "# ratio = 0.9\n",
    "# sampling_strategy = {0: len(y_dataset_res[y_dataset_res == 1]), \n",
    "#                      1: int(ratio * len(y_dataset_res[y_dataset_res == 1]))}\n",
    "\n",
    "# smote = SMOTE(sampling_strategy=sampling_strategy, random_state=42)\n",
    "# X_balanced, y_balanced = smote.fit_resample(x_dataset,y_dataset)"
   ]
  },
  {
   "cell_type": "code",
   "execution_count": null,
   "id": "72a9e17c-6c93-4d2d-bb8f-804059df7507",
   "metadata": {},
   "outputs": [],
   "source": [
    "# ratio = 0.9"
   ]
  },
  {
   "cell_type": "code",
   "execution_count": null,
   "id": "01a2786f-6fd7-49b7-a9f1-b24269547c2b",
   "metadata": {},
   "outputs": [],
   "source": [
    "# int(ratio * len(y_dataset_res[y_dataset_res == 1]))"
   ]
  },
  {
   "cell_type": "code",
   "execution_count": null,
   "id": "872ea417-578d-42b9-a614-cd596c1c821c",
   "metadata": {},
   "outputs": [],
   "source": []
  },
  {
   "cell_type": "code",
   "execution_count": null,
   "id": "6f603011-7977-4e5e-849e-6d523ec423fa",
   "metadata": {},
   "outputs": [],
   "source": [
    "# y_dataset.value_counts()"
   ]
  },
  {
   "cell_type": "code",
   "execution_count": null,
   "id": "3955822f-d99c-4ccd-8fe2-1768995727a8",
   "metadata": {},
   "outputs": [],
   "source": [
    "# y_balanced.value_counts()"
   ]
  },
  {
   "cell_type": "code",
   "execution_count": null,
   "id": "ad181df1-ef8f-40cf-b028-64d7f5566484",
   "metadata": {},
   "outputs": [],
   "source": [
    "# X_balanced"
   ]
  },
  {
   "cell_type": "code",
   "execution_count": null,
   "id": "6307b610-0b0e-4baf-8a93-2a12e3ff4a7b",
   "metadata": {},
   "outputs": [],
   "source": []
  },
  {
   "cell_type": "code",
   "execution_count": null,
   "id": "931e9da5-3bd9-451c-adb2-22f6a1790f21",
   "metadata": {},
   "outputs": [],
   "source": []
  },
  {
   "cell_type": "code",
   "execution_count": null,
   "id": "93e9ba17-61d0-43ef-bc6f-3548ffcb0dea",
   "metadata": {},
   "outputs": [],
   "source": []
  },
  {
   "cell_type": "markdown",
   "id": "012e471a-b565-4e04-96d9-1c5cce8f228d",
   "metadata": {},
   "source": [
    "### Coba ke2"
   ]
  },
  {
   "cell_type": "code",
   "execution_count": null,
   "id": "28b5b2ed-dea2-40da-8c21-7d5e937bcfa6",
   "metadata": {},
   "outputs": [],
   "source": [
    "# minority_class = y_dataset[y_dataset == 1]\n",
    "# majority_class = y_dataset[y_dataset == 0]\n",
    "\n",
    "# minority_size = len(minority_class)\n",
    "# majority_size = len(majority_class)\n",
    "# desired_minority_size = int(majority_size * 0.9)\n",
    "# ratio = desired_minority_size / minority_size\n",
    "# sampling_strategy = {0: int(ratio * minority_size), 1: majority_size}\n",
    "# smote = SMOTE(sampling_strategy=sampling_strategy, random_state=42)\n",
    "# X_resampled, y_resampled = smote.fit_resample(x_dataset,y_dataset)"
   ]
  },
  {
   "cell_type": "code",
   "execution_count": null,
   "id": "b0cf0ccd-dafc-44f2-8828-0807f75a1d44",
   "metadata": {},
   "outputs": [],
   "source": []
  },
  {
   "cell_type": "markdown",
   "id": "7babdd81-06c6-4e51-b570-210926267889",
   "metadata": {},
   "source": [
    "#### Coba ke3"
   ]
  },
  {
   "cell_type": "code",
   "execution_count": null,
   "id": "0c7e2bee-ba25-4613-a657-12077bdadc82",
   "metadata": {},
   "outputs": [],
   "source": [
    "# from imblearn.under_sampling import NearMiss"
   ]
  },
  {
   "cell_type": "code",
   "execution_count": null,
   "id": "7dacbcc3-67ba-46bf-8a0e-dc949eb6f03b",
   "metadata": {},
   "outputs": [],
   "source": [
    "# count_class_0 = 59307\n",
    "# count_class_1 = 59307\n",
    "# pipe = make_pipeline(\n",
    "#     SMOTE(sampling_strategy={0: count_class_0}),\n",
    "#     NearMiss(sampling_strategy={1: count_class_1}))"
   ]
  },
  {
   "cell_type": "code",
   "execution_count": null,
   "id": "2b934537-a1d6-46f4-8ab7-02dbea60544f",
   "metadata": {},
   "outputs": [],
   "source": [
    "# X_resampled, y_resampled = pipe.fit_resample(x_dataset, y_dataset)"
   ]
  },
  {
   "cell_type": "code",
   "execution_count": null,
   "id": "25e51d6d-4453-414d-805f-9cf1d8e9059e",
   "metadata": {},
   "outputs": [],
   "source": []
  },
  {
   "cell_type": "code",
   "execution_count": null,
   "id": "ec7c893d-b05e-4cc9-9e50-83776b9832b2",
   "metadata": {},
   "outputs": [],
   "source": []
  },
  {
   "cell_type": "code",
   "execution_count": null,
   "id": "f7766901-17cf-4076-9b25-98e7bfa05785",
   "metadata": {},
   "outputs": [],
   "source": []
  },
  {
   "cell_type": "code",
   "execution_count": null,
   "id": "2d26df74-ffe2-4115-b0ac-5edd4d6821d3",
   "metadata": {},
   "outputs": [],
   "source": []
  },
  {
   "cell_type": "code",
   "execution_count": null,
   "id": "fc4aa422-c97d-438b-89bf-f5f374a2532e",
   "metadata": {},
   "outputs": [],
   "source": []
  }
 ],
 "metadata": {
  "kernelspec": {
   "display_name": "Python 3 (ipykernel)",
   "language": "python",
   "name": "python3"
  },
  "language_info": {
   "codemirror_mode": {
    "name": "ipython",
    "version": 3
   },
   "file_extension": ".py",
   "mimetype": "text/x-python",
   "name": "python",
   "nbconvert_exporter": "python",
   "pygments_lexer": "ipython3",
   "version": "3.9.7"
  }
 },
 "nbformat": 4,
 "nbformat_minor": 5
}
